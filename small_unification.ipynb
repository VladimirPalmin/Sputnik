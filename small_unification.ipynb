{
 "cells": [
  {
   "cell_type": "code",
   "execution_count": 1,
   "metadata": {},
   "outputs": [],
   "source": [
    "import numpy as np\n",
    "import os\n",
    "import matplotlib.pyplot as plt\n",
    "from scipy.optimize import curve_fit\n",
    "from sklearn.metrics import auc\n",
    "path = os.getcwd() + '/'\n",
    "from tables import open_file\n",
    "from scipy.interpolate import CubicSpline\n",
    "from scipy.integrate import quad, simps"
   ]
  },
  {
   "cell_type": "code",
   "execution_count": 2,
   "metadata": {},
   "outputs": [],
   "source": [
    "def B_spline(x, k, i, t):\n",
    "    \"\"\"\n",
    "    B-spline\n",
    "    t : numpy array\n",
    "      knots\n",
    "    k, i : int\n",
    "      spline number\n",
    "    return: B_ki spline at point x\n",
    "    \"\"\"\n",
    "    if k == 0:\n",
    "        return 1.0 if t[i] <= x < t[i+1] else 0.0\n",
    "    if t[i+k] == t[i]:\n",
    "        c1 = 0.0\n",
    "    else:\n",
    "        c1 = (x - t[i])/(t[i+k] - t[i]) * B_spline(x, k-1, i, t)\n",
    "    if t[i+k+1] == t[i+1]:\n",
    "        c2 = 0.0\n",
    "    else:\n",
    "        c2 = (t[i+k+1] - x)/(t[i+k+1] - t[i+1]) * B_spline(x, k-1, i+1, t)\n",
    "    return c1 + c2\n",
    "\n",
    "def distribution(x, x_knots, b):\n",
    "    \"\"\"\n",
    "    proton distribution\n",
    "    x_knots : numpy array\n",
    "    b : numpy array\n",
    "      weights\n",
    "    return: time at point x\n",
    "    \"\"\"\n",
    "    t = x_knots\n",
    "    T = 1e-19\n",
    "    for i in range(1, len(t)-5):\n",
    "        T += b[i-1]*B_spline(x, 3, i, t)\n",
    "    return T"
   ]
  },
  {
   "cell_type": "code",
   "execution_count": 3,
   "metadata": {},
   "outputs": [],
   "source": [
    "resukt = []\n",
    "energies = []\n",
    "with open_file(path + 'result_detail.hdf5') as h5file:\n",
    "    for group in h5file.root:\n",
    "        table = h5file.get_node(group, \"deposit\")\n",
    "        energy = table.attrs[\"values_macros_energy\"]\n",
    "        number = table.attrs[\"values_macros_number\"]\n",
    "        data = table.read()\n",
    "        data = data[\"event\"].sum(axis=0) / number\n",
    "        resukt.append(data)\n",
    "        energies.append(energy)\n",
    "data = np.array(resukt) #сразу разбиты на 20 шайб\n",
    "energies = np.array(energies) #энергии протонов, от 60 до 80 МэВ с шагом 0.05 МэВ"
   ]
  },
  {
   "cell_type": "code",
   "execution_count": 4,
   "metadata": {},
   "outputs": [],
   "source": [
    "weights = np.array([0.        , 0.        , 0.        , 0.        , 0.        ,\n",
    "       0.85477563, 0.88621047, 0.        , 0.        , 0.08724451,\n",
    "       0.        , 0.        , 0.        , 0.        , 0.02408928])\n",
    "\n",
    "errors = np.array([0.52456698, 0.75110384, 0.79366747, 0.94208268, 0.77658627,\n",
    "       0.83759377, 0.95626912, 1.        , 1.        , 0.43076316])\n",
    "\n",
    "weights = np.array([0.02097887, 0.        , 0.        , 0.        , 0.        ,\n",
    "        0.        , 0.        , 1.        , 0.98153884, 0.        ,\n",
    "        0.00164911, 0.03977522, 0.04088125, 0.04648619, 0.0132813 ,\n",
    "        0.        , 0.        , 0.        , 0.        , 0.02442026]) # 20 first step\n",
    "errors = np.array([0.53867167, 0.73379509, 0.79765245, 0.96731091, 0.80156418,\n",
    "        0.8956091 , 1.        , 1.        , 1.        , 0.1       ])"
   ]
  },
  {
   "cell_type": "code",
   "execution_count": 5,
   "metadata": {},
   "outputs": [],
   "source": [
    "a0 =  energies[147]# 67.4 MeV - minimum possible proton energy\n",
    "a1 = energies[225] #71.3 maximum possible proton energy\n",
    "n = 15 #number of splines\n",
    "x_knots = np.concatenate([np.linspace(a0-0.3, a0-0.1, 3), np.linspace(a0, a1, n), np.linspace(a1 + 0.1, a1 + 0.3, 3)])"
   ]
  },
  {
   "cell_type": "code",
   "execution_count": 6,
   "metadata": {},
   "outputs": [],
   "source": [
    "proton_bunch = np.array([distribution(x, x_knots, weights) for x in energies])\n",
    "proton_bunch = proton_bunch/np.sum(proton_bunch)"
   ]
  },
  {
   "cell_type": "code",
   "execution_count": 7,
   "metadata": {},
   "outputs": [],
   "source": [
    "data_prob = np.zeros(data.shape)\n",
    "for i in range(data.shape[0]):\n",
    "    data_prob[i] = data[i]*proton_bunch[i]"
   ]
  },
  {
   "cell_type": "code",
   "execution_count": 8,
   "metadata": {},
   "outputs": [
    {
     "data": {
      "image/png": "[encoded data removed]",
      "text/plain": [
       "<Figure size 432x288 with 1 Axes>"
      ]
     },
     "metadata": {
      "needs_background": "light"
     },
     "output_type": "display_data"
    }
   ],
   "source": [
    "data_mean = np.sum(data_prob, axis=0)\n",
    "plt.bar(range(1, 21), data_mean)\n",
    "plt.xticks(range(1, 12))\n",
    "plt.ylabel(\"mean energy loss, MeV\")\n",
    "plt.xlabel('puck number')\n",
    "plt.tight_layout()\n",
    "#plt.savefig('small_unification_plots/losses_mean.png', dpi=300, transparent=True)"
   ]
  },
  {
   "cell_type": "code",
   "execution_count": 9,
   "metadata": {},
   "outputs": [],
   "source": [
    "mean_error=np.loadtxt('popts_small.txt') #mean and error of gaussian for each puck"
   ]
  },
  {
   "cell_type": "code",
   "execution_count": 10,
   "metadata": {},
   "outputs": [],
   "source": [
    "calibr = data_mean[:10]/mean_error.T[0]"
   ]
  },
  {
   "cell_type": "code",
   "execution_count": 11,
   "metadata": {},
   "outputs": [],
   "source": [
    "np.savetxt('calibration_from_min_max_spectrum_splines_20_step1.txt', calibr)"
   ]
  },
  {
   "cell_type": "code",
   "execution_count": 46,
   "metadata": {},
   "outputs": [
    {
     "data": {
      "text/plain": [
       "(array([0.00036967, 0.00056936, 0.0005457 , 0.00053688, 0.00044349,\n",
       "        0.00043924, 0.00059634, 0.00049756, 0.00056417, 0.00052089]),\n",
       " array([0.00037158, 0.00057027, 0.00054863, 0.00053969, 0.00044753,\n",
       "        0.00044366, 0.00060299, 0.00050283, 0.00057221, 0.0004558 ]))"
      ]
     },
     "execution_count": 46,
     "metadata": {},
     "output_type": "execute_result"
    }
   ],
   "source": [
    "np.loadtxt('calibration_from_min_max_lower.txt'), np.loadtxt('calibration_from_min_max_spectrum_splines_15.txt')"
   ]
  },
  {
   "cell_type": "code",
   "execution_count": 12,
   "metadata": {},
   "outputs": [
    {
     "data": {
      "image/png": "[encoded data removed]",
      "text/plain": [
       "<Figure size 432x288 with 1 Axes>"
      ]
     },
     "metadata": {
      "needs_background": "light"
     },
     "output_type": "display_data"
    }
   ],
   "source": [
    "plt.bar(range(1, 11), calibr*10**4)\n",
    "plt.xticks(range(1, 11))\n",
    "plt.ylabel(r\"calibration factor, $10^{-4}$\")\n",
    "plt.xlabel('number of disk')\n",
    "plt.tight_layout()\n",
    "#plt.savefig('small_unification_plots/calibr_splines_15.png', dpi=300, transparent=True)"
   ]
  },
  {
   "cell_type": "code",
   "execution_count": 145,
   "metadata": {},
   "outputs": [
    {
     "data": {
      "text/plain": [
       "(1.6250187591120557,\n",
       " array([0.00037165, 0.0005699 , 0.00054713, 0.00053878, 0.00044731,\n",
       "        0.00044347, 0.00060394, 0.00050429, 0.00057602, 0.00045041]),\n",
       " 4.9838819890834855e-09,\n",
       " 0.0005052897938152826,\n",
       " 0.8366503216215052,\n",
       " 1.3595724674520806)"
      ]
     },
     "execution_count": 145,
     "metadata": {},
     "output_type": "execute_result"
    }
   ],
   "source": [
    "np.max(calibr)/np.min(calibr), calibr, np.var(calibr), np.mean(calibr), np.mean(calibr)/np.max(calibr), np.mean(calibr)/np.min(calibr)"
   ]
  },
  {
   "cell_type": "code",
   "execution_count": 39,
   "metadata": {},
   "outputs": [],
   "source": [
    "calibr = np.loadtxt('calibration_from_min_max_lower.txt')"
   ]
  },
  {
   "cell_type": "code",
   "execution_count": 40,
   "metadata": {},
   "outputs": [],
   "source": [
    "data_experiment = np.load('processed_data_7pucks.npy')\n",
    "n = len(data_experiment.T[:][:])\n",
    "data_calibrated = np.zeros((n, 10))\n",
    "for i in range(n):\n",
    "    data_calibrated[i] = data_experiment.T[:][i]*calibr"
   ]
  },
  {
   "cell_type": "code",
   "execution_count": 41,
   "metadata": {},
   "outputs": [],
   "source": [
    "experiment_peaks_position=np.zeros(len(data_calibrated))\n",
    "for i in range(len(data_calibrated)):\n",
    "    event = data_calibrated[i]\n",
    "    experiment_peaks_position[i] = np.argmax(event) + 1\n",
    "    \n",
    "hist, bins = np.histogram(experiment_peaks_position, bins=range(1, 12), density=True)\n",
    "bins = np.delete(bins, -1)"
   ]
  },
  {
   "cell_type": "code",
   "execution_count": 43,
   "metadata": {},
   "outputs": [
    {
     "data": {
      "image/png": "[encoded data removed]",
      "text/plain": [
       "<Figure size 432x288 with 1 Axes>"
      ]
     },
     "metadata": {
      "needs_background": "light"
     },
     "output_type": "display_data"
    }
   ],
   "source": [
    "plt.bar(bins, hist)\n",
    "plt.ylabel('relative frequency')\n",
    "plt.xlabel('puck number with maximum loss')\n",
    "plt.tight_layout()\n",
    "#plt.savefig('small_unification_plots/bar_energy_calibr_min_max.png', dpi=300, transparent=True)"
   ]
  },
  {
   "cell_type": "code",
   "execution_count": 29,
   "metadata": {},
   "outputs": [],
   "source": [
    "resukt = []\n",
    "energies = []\n",
    "with open_file(path + 'result_detail.hdf5') as h5file:\n",
    "    for group in h5file.root:\n",
    "        table = h5file.get_node(group, \"deposit\")\n",
    "        energy = table.attrs[\"values_macros_energy\"]\n",
    "        number = table.attrs[\"values_macros_number\"]\n",
    "        data = table.read()\n",
    "        data = data[\"event\"]#.sum(axis=0) / number\n",
    "        resukt.append(data)\n",
    "        energies.append(energy)\n",
    "data = np.array(resukt) #сразу разбиты на 20 шайб\n",
    "energies = np.array(energies) #энергии протонов, от 60 до 80 МэВ с шагом 0.05 МэВ"
   ]
  },
  {
   "cell_type": "code",
   "execution_count": 35,
   "metadata": {},
   "outputs": [],
   "source": [
    "histogram = np.zeros(10)\n",
    "for number in range(170, 175+1):\n",
    "    peaks_position = np.zeros(len(data[number])) #позиция пика \n",
    "    for i, event in enumerate(data[number]):\n",
    "        peaks_position[i] = np.argmax(event) + 1\n",
    "\n",
    "    hist, bins = np.histogram(peaks_position, bins=range(1, 12))\n",
    "    bins = np.delete(bins, -1)\n",
    "    histogram = histogram + hist"
   ]
  },
  {
   "cell_type": "code",
   "execution_count": 37,
   "metadata": {},
   "outputs": [
    {
     "data": {
      "image/png": "[encoded data removed]",
      "text/plain": [
       "<Figure size 432x288 with 1 Axes>"
      ]
     },
     "metadata": {
      "needs_background": "light"
     },
     "output_type": "display_data"
    }
   ],
   "source": [
    "plt.bar(bins, histogram/sum(histogram))\n",
    "plt.ylabel('relative frequency')\n",
    "plt.xlabel('puck number with maximum loss')\n",
    "plt.tight_layout()\n",
    "#plt.savefig('small_unification_plots/bar_energy_sum.png', dpi=300, transparent=True)"
   ]
  },
  {
   "cell_type": "code",
   "execution_count": null,
   "metadata": {},
   "outputs": [],
   "source": []
  }
 ],
 "metadata": {
  "kernelspec": {
   "display_name": "Python 3",
   "language": "python",
   "name": "python3"
  },
  "language_info": {
   "codemirror_mode": {
    "name": "ipython",
    "version": 3
   },
   "file_extension": ".py",
   "mimetype": "text/x-python",
   "name": "python",
   "nbconvert_exporter": "python",
   "pygments_lexer": "ipython3",
   "version": "3.8.3"
  }
 },
 "nbformat": 4,
 "nbformat_minor": 4
}
